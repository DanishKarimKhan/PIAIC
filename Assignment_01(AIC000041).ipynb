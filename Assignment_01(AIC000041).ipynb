{
 "cells": [
  {
   "cell_type": "markdown",
   "metadata": {},
   "source": [
    "# ASSIGNMENT "
   ]
  },
  {
   "cell_type": "markdown",
   "metadata": {},
   "source": [
    "<h3> 1 : Declare and initialize a variable name total_marks with a value 500</h3>\n"
   ]
  },
  {
   "cell_type": "code",
   "execution_count": 1,
   "metadata": {},
   "outputs": [
    {
     "name": "stdout",
     "output_type": "stream",
     "text": [
      "Total Marks = 500\n"
     ]
    }
   ],
   "source": [
    "total_marks=500\n",
    "print (\"Total Marks =\",total_marks)"
   ]
  },
  {
   "cell_type": "markdown",
   "metadata": {},
   "source": [
    "<h3> 2 : Declare and initialize 5 variables name maths , english , urdu , physics and chemisrty with different integer values</h3>"
   ]
  },
  {
   "cell_type": "code",
   "execution_count": 2,
   "metadata": {},
   "outputs": [
    {
     "name": "stdout",
     "output_type": "stream",
     "text": [
      "Maths = 100 English = 90 Urdu = 80 Physics = 70 Chemistry = 60\n"
     ]
    }
   ],
   "source": [
    "maths=100\n",
    "english=90\n",
    "urdu=80\n",
    "physics=70\n",
    "chemistry=60\n",
    "print(\"Maths =\",maths,\"English =\",english,\"Urdu =\",urdu,\"Physics =\",physics,\"Chemistry =\",chemistry)"
   ]
  },
  {
   "cell_type": "markdown",
   "metadata": {},
   "source": [
    "<h3>3 : Calculate the obtained marks And assign the value In variable name obtained_marks</h3>"
   ]
  },
  {
   "cell_type": "code",
   "execution_count": 3,
   "metadata": {},
   "outputs": [
    {
     "name": "stdout",
     "output_type": "stream",
     "text": [
      "obtainedMarks =  400\n"
     ]
    }
   ],
   "source": [
    "maths=100\n",
    "english=90\n",
    "urdu=80\n",
    "physics=70\n",
    "chemistry=60\n",
    "obtained_marks=maths+english+urdu+physics+chemistry\n",
    "print(\"obtainedMarks = \",obtained_marks)"
   ]
  },
  {
   "cell_type": "markdown",
   "metadata": {},
   "source": [
    "<h3>4 : Calculate percentage and assign the value in variable name percentage</h3>"
   ]
  },
  {
   "cell_type": "code",
   "execution_count": 4,
   "metadata": {},
   "outputs": [
    {
     "name": "stdout",
     "output_type": "stream",
     "text": [
      "Percentage =  80.0\n"
     ]
    }
   ],
   "source": [
    "total_marks=500\n",
    "obtained_marks=400\n",
    "percentage=(float(obtained_marks)/float(total_marks))*100\n",
    "print(\"Percentage = \",percentage)"
   ]
  },
  {
   "cell_type": "markdown",
   "metadata": {},
   "source": [
    "<h3>5 : Declare and initialize an empty variable name grade </h3>"
   ]
  },
  {
   "cell_type": "code",
   "execution_count": 5,
   "metadata": {},
   "outputs": [
    {
     "name": "stdout",
     "output_type": "stream",
     "text": [
      "\n"
     ]
    }
   ],
   "source": [
    "grade=''\n",
    "print(grade)"
   ]
  },
  {
   "cell_type": "markdown",
   "metadata": {},
   "source": [
    "### 6: print your biodata "
   ]
  },
  {
   "cell_type": "code",
   "execution_count": 6,
   "metadata": {},
   "outputs": [
    {
     "name": "stdout",
     "output_type": "stream",
     "text": [
      "Name : Danish Karim\n",
      "Father's Name : Abdul Karim\n",
      "Date of Birth : 07-11-1994\n",
      "Email : Danishkarimkhan@gmail.com\n"
     ]
    }
   ],
   "source": [
    "print(\"Name : Danish Karim\")\n",
    "print(\"Father's Name : Abdul Karim\")\n",
    "print(\"Date of Birth : 07-11-1994\")\n",
    "print(\"Email : Danishkarimkhan@gmail.com\")"
   ]
  },
  {
   "cell_type": "code",
   "execution_count": null,
   "metadata": {},
   "outputs": [],
   "source": []
  }
 ],
 "metadata": {
  "kernelspec": {
   "display_name": "Python 3",
   "language": "python",
   "name": "python3"
  },
  "language_info": {
   "codemirror_mode": {
    "name": "ipython",
    "version": 3
   },
   "file_extension": ".py",
   "mimetype": "text/x-python",
   "name": "python",
   "nbconvert_exporter": "python",
   "pygments_lexer": "ipython3",
   "version": "3.7.3"
  }
 },
 "nbformat": 4,
 "nbformat_minor": 2
}
