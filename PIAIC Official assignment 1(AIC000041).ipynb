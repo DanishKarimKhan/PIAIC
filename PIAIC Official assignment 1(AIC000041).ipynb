{
 "cells": [
  {
   "cell_type": "markdown",
   "metadata": {},
   "source": [
    "## 1. Calculate Area of a Circle"
   ]
  },
  {
   "cell_type": "markdown",
   "metadata": {},
   "source": [
    "#### Write a Python program which accepts the radius of a circle from the user and compute the area.\n",
    "###### Program Console Sample Output 1:\n",
    "###### Input Radius: 0.5\n",
    "###### Area of Circle with radius 0.5 is 0.7853981634"
   ]
  },
  {
   "cell_type": "code",
   "execution_count": 1,
   "metadata": {},
   "outputs": [
    {
     "name": "stdin",
     "output_type": "stream",
     "text": [
      "Input Radius for computing Area of Circle :  0.5\n"
     ]
    },
    {
     "name": "stdout",
     "output_type": "stream",
     "text": [
      "Area of a circle with Radius 0.5 is 0.785\n"
     ]
    }
   ],
   "source": [
    "Radius = float(input(\"Input Radius for computing Area of Circle : \"))\n",
    "Circle_area = 3.14*Radius**(2)\n",
    "print(\"Area of a circle with Radius\",Radius,\"is\",Circle_area)"
   ]
  },
  {
   "cell_type": "markdown",
   "metadata": {},
   "source": [
    "## 2. Check Number either positive, negative or zero"
   ]
  },
  {
   "cell_type": "markdown",
   "metadata": {},
   "source": [
    "#### Write a Python program to check if a number is positive, negative or zero\n",
    "###### Program Console Sample Output 1:\n",
    "###### Enter Number: -1\n",
    "##### Negative Number Entered\n",
    "###### Program Console Sample Output 2:\n",
    "##### Integer: 3\n",
    "##### Positive Number Entered\n",
    "###### Program Console Sample Output 3:\n",
    "##### Integer: 0\n",
    "###### Zero Entered"
   ]
  },
  {
   "cell_type": "code",
   "execution_count": 2,
   "metadata": {},
   "outputs": [
    {
     "name": "stdin",
     "output_type": "stream",
     "text": [
      "Please Input number to check its nature -1\n"
     ]
    },
    {
     "name": "stdout",
     "output_type": "stream",
     "text": [
      "Enter Number:  -1.0\n",
      "Negative Number Entered\n"
     ]
    }
   ],
   "source": [
    "Number = float(input(\"Please Input number to check its nature\"))\n",
    "if Number==0:\n",
    "    print(\"Integer: \",Number)\n",
    "    print(\"Zero Entered\")\n",
    "elif Number>0:\n",
    "    print(\"Integer: \",Number)\n",
    "    print(\"Positive Number Entered\")\n",
    "elif Number<0:\n",
    "    print(\"Enter Number: \",Number)\n",
    "    print(\"Negative Number Entered\")"
   ]
  },
  {
   "cell_type": "code",
   "execution_count": 3,
   "metadata": {},
   "outputs": [
    {
     "name": "stdin",
     "output_type": "stream",
     "text": [
      "Please Input number to check its nature 3\n"
     ]
    },
    {
     "name": "stdout",
     "output_type": "stream",
     "text": [
      "Integer:  3.0\n",
      "Positive Number Entered\n"
     ]
    }
   ],
   "source": [
    "Number = float(input(\"Please Input number to check its nature\"))\n",
    "if Number==0:\n",
    "    print(\"Integer: \",Number)\n",
    "    print(\"Zero Entered\")\n",
    "elif Number>0:\n",
    "    print(\"Integer: \",Number)\n",
    "    print(\"Positive Number Entered\")\n",
    "elif Number<0:\n",
    "    print(\"Enter Number: \",Number)\n",
    "    print(\"Negative Number Entered\")"
   ]
  },
  {
   "cell_type": "code",
   "execution_count": 4,
   "metadata": {},
   "outputs": [
    {
     "name": "stdin",
     "output_type": "stream",
     "text": [
      "Please Input number to check its nature 0\n"
     ]
    },
    {
     "name": "stdout",
     "output_type": "stream",
     "text": [
      "Integer:  0.0\n",
      "Zero Entered\n"
     ]
    }
   ],
   "source": [
    "Number = float(input(\"Please Input number to check its nature\"))\n",
    "if Number==0:\n",
    "    print(\"Integer: \",Number)\n",
    "    print(\"Zero Entered\")\n",
    "elif Number>0:\n",
    "    print(\"Integer: \",Number)\n",
    "    print(\"Positive Number Entered\")\n",
    "elif Number<0:\n",
    "    print(\"Enter Number: \",Number)\n",
    "    print(\"Negative Number Entered\")"
   ]
  },
  {
   "cell_type": "markdown",
   "metadata": {},
   "source": [
    "## 3. Divisibility Check of two numbers"
   ]
  },
  {
   "cell_type": "markdown",
   "metadata": {},
   "source": [
    "#### Write a Python program to check whether a number is completely divisible by another number. Accept two integer values form the user\n",
    "##### Program Console Sample Output 1:\n",
    "###### Enter numerator: 4\n",
    "###### Enter Denominator: 2\n",
    "##### Number 4 is Completely divisible by 2\n",
    "###### Program Console Sample Output 2:\n",
    "##### Enter numerator: 7\n",
    "\n",
    "##### Enter Denominator: 4\n",
    "###### Number 7 is not Completely divisible by 4"
   ]
  },
  {
   "cell_type": "code",
   "execution_count": 5,
   "metadata": {},
   "outputs": [
    {
     "name": "stdin",
     "output_type": "stream",
     "text": [
      "Enter numerator: 4\n",
      "Enter Denominator: 2\n"
     ]
    },
    {
     "name": "stdout",
     "output_type": "stream",
     "text": [
      "Number 4 is Completely divisible by 2\n"
     ]
    }
   ],
   "source": [
    "Num = int(input(\"Enter numerator:\"))\n",
    "Den = int(input(\"Enter Denominator:\"))\n",
    "if(Num%Den == 0):\n",
    "    print(\"Number\" ,Num, \"is Completely divisible by\",Den)\n",
    "else:\n",
    "    print(\"Number\" ,Num, \"is not Completely divisible by\",Den)"
   ]
  },
  {
   "cell_type": "code",
   "execution_count": 6,
   "metadata": {},
   "outputs": [
    {
     "name": "stdin",
     "output_type": "stream",
     "text": [
      "Enter numerator: 7\n",
      "Enter Denominator: 4\n"
     ]
    },
    {
     "name": "stdout",
     "output_type": "stream",
     "text": [
      "Number 7 is not Completely divisible by 4\n"
     ]
    }
   ],
   "source": [
    "Num = int(input(\"Enter numerator:\"))\n",
    "Den = int(input(\"Enter Denominator:\"))\n",
    "if(Num%Den == 0):\n",
    "    print(\"Number\" ,Num, \"is Completely divisible by\",Den)\n",
    "else:\n",
    "    print(\"Number\" ,Num, \"is not Completely divisible by\",Den)"
   ]
  },
  {
   "cell_type": "markdown",
   "metadata": {},
   "source": [
    "## 4. Calculate Volume of a sphere"
   ]
  },
  {
   "cell_type": "markdown",
   "metadata": {},
   "source": [
    "##### Write a Python program to get the volume of a sphere, please take the radius as input from user"
   ]
  },
  {
   "cell_type": "markdown",
   "metadata": {},
   "source": [
    "##### Program Console Output:\n",
    "##### Enter Radius of Sphere: 1\n",
    "###### Volume of the Sphere with Radius 1 is 4.18"
   ]
  },
  {
   "cell_type": "code",
   "execution_count": 7,
   "metadata": {},
   "outputs": [
    {
     "name": "stdin",
     "output_type": "stream",
     "text": [
      "Enter Radius of Sphere 1\n"
     ]
    },
    {
     "name": "stdout",
     "output_type": "stream",
     "text": [
      "Volume of Sphere with radius 1.0 is 4.188786666666666\n"
     ]
    }
   ],
   "source": [
    "Radius = float(input(\"Enter Radius of Sphere\"))\n",
    "Volume_Of_Sphere= (4/3 * 3.14159* Radius)\n",
    "print(\"Volume of Sphere with radius\",Radius,\"is\",Volume_Of_Sphere )"
   ]
  },
  {
   "cell_type": "markdown",
   "metadata": {},
   "source": [
    "## 5. Copy string n times\n",
    "#### Write a Python program to get a string which is n (non-negative integer) copies of a given string.\n",
    "##### Program Console Output:\n",
    "##### Enter String: Hi\n",
    "###### How many copies of String you need: 4\n",
    "###### 4 Copies of Hi are HiHiHiHi"
   ]
  },
  {
   "cell_type": "code",
   "execution_count": 8,
   "metadata": {},
   "outputs": [
    {
     "name": "stdin",
     "output_type": "stream",
     "text": [
      "Enter String you want to copy :  Hi\n",
      "Number of Copies for above string :  4\n"
     ]
    },
    {
     "name": "stdout",
     "output_type": "stream",
     "text": [
      "4 Copies of Hi are : HiHiHiHi"
     ]
    }
   ],
   "source": [
    "String=input(\"Enter String you want to copy : \")\n",
    "String_copies=int(input(\"Number of Copies for above string : \"))\n",
    "print(String_copies,\"Copies of\",String,\"are : \",end=\"\")\n",
    "for i in range(String_copies):\n",
    "    print(String,end=\"\")"
   ]
  },
  {
   "cell_type": "markdown",
   "metadata": {},
   "source": [
    "## 6. Check if number is Even or Odd\n",
    "### Write a Python program to find whether a given number (accept from the user) is even or odd, print out an appropriate message to the user\n",
    "#### Program Console Output 1:\n",
    "##### Enter Number: 4\n",
    "###### 4 is Even\n",
    "#### Program Console Output 2:\n",
    "##### Enter Number: 9\n",
    "###### 9 is Odd"
   ]
  },
  {
   "cell_type": "code",
   "execution_count": 9,
   "metadata": {},
   "outputs": [
    {
     "name": "stdin",
     "output_type": "stream",
     "text": [
      "Enter a number =  4\n"
     ]
    },
    {
     "name": "stdout",
     "output_type": "stream",
     "text": [
      "4 is Even Number\n"
     ]
    }
   ],
   "source": [
    "Number =int(input(\"Enter a number = \"))\n",
    "if Number%2==0:\n",
    "    print(Number,\"is Even Number\")\n",
    "else:\n",
    "    print(Number,\"is Odd Number\")"
   ]
  },
  {
   "cell_type": "code",
   "execution_count": 10,
   "metadata": {},
   "outputs": [
    {
     "name": "stdin",
     "output_type": "stream",
     "text": [
      "Enter a number =  9\n"
     ]
    },
    {
     "name": "stdout",
     "output_type": "stream",
     "text": [
      "9 is Odd Number\n"
     ]
    }
   ],
   "source": [
    "Number =int(input(\"Enter a number = \"))\n",
    "if Number%2==0:\n",
    "    print(Number,\"is Even Number\")\n",
    "else:\n",
    "    print(Number,\"is Odd Number\")"
   ]
  },
  {
   "cell_type": "markdown",
   "metadata": {},
   "source": [
    "## 7. Vowel Tester\n",
    "### Write a Python program to test whether a passed letter is a vowel or not\n",
    "#### Program Console Output 1:\n",
    "##### Enter a character: A\n",
    "###### Letter A is Vowel\n",
    "#### Program Console Output 2:\n",
    "##### Enter a character: e\n",
    "###### Letter e is Vowel\n",
    "#### Program Console Output 2:\n",
    "##### Enter a character: N\n",
    "###### Letter N is not Vowel"
   ]
  },
  {
   "cell_type": "code",
   "execution_count": 11,
   "metadata": {},
   "outputs": [
    {
     "name": "stdin",
     "output_type": "stream",
     "text": [
      "Enter a character to vowel: A\n"
     ]
    },
    {
     "name": "stdout",
     "output_type": "stream",
     "text": [
      "Letter A is Vowel\n"
     ]
    }
   ],
   "source": [
    "char=str(input(\"Enter a character to vowel:\"))\n",
    "if char=='A' or char=='E' or char=='I' or char=='O' or char=='U' or char=='a' or char=='e' or char=='i' or char=='o' or char=='u':\n",
    "    print('Letter {} is Vowel'.format(char))\n",
    "else:\n",
    "    print('Letter {} is not Vowel'.format(char))"
   ]
  },
  {
   "cell_type": "code",
   "execution_count": 12,
   "metadata": {},
   "outputs": [
    {
     "name": "stdin",
     "output_type": "stream",
     "text": [
      "Enter a character to vowel: e\n"
     ]
    },
    {
     "name": "stdout",
     "output_type": "stream",
     "text": [
      "Letter e is Vowel\n"
     ]
    }
   ],
   "source": [
    "char=str(input(\"Enter a character to vowel:\"))\n",
    "if char=='A' or char=='E' or char=='I' or char=='O' or char=='U' or char=='a' or char=='e' or char=='i' or char=='o' or char=='u':\n",
    "    print('Letter {} is Vowel'.format(char))\n",
    "else:\n",
    "    print('Letter {} is not Vowel'.format(char))"
   ]
  },
  {
   "cell_type": "code",
   "execution_count": 13,
   "metadata": {},
   "outputs": [
    {
     "name": "stdin",
     "output_type": "stream",
     "text": [
      "Enter a character to vowel: N\n"
     ]
    },
    {
     "name": "stdout",
     "output_type": "stream",
     "text": [
      "Letter N is not Vowel\n"
     ]
    }
   ],
   "source": [
    "char=str(input(\"Enter a character to vowel:\"))\n",
    "if char=='A' or char=='E' or char=='I' or char=='O' or char=='U' or char=='a' or char=='e' or char=='i' or char=='o' or char=='u':\n",
    "    print('Letter {} is Vowel'.format(char))\n",
    "else:\n",
    "    print('Letter {} is not Vowel'.format(char))"
   ]
  },
  {
   "cell_type": "markdown",
   "metadata": {},
   "source": [
    "## 8. Triangle area\n",
    "### Write a Python program that will accept the base and height of a triangle and compute the area\n",
    "###### Reference:\n",
    "https://www.mathgoodies.com/lessons/vol1/area_triangle"
   ]
  },
  {
   "cell_type": "code",
   "execution_count": 14,
   "metadata": {},
   "outputs": [
    {
     "name": "stdin",
     "output_type": "stream",
     "text": [
      "Enter Base for Area =  10\n",
      "Enter height for Area =  20\n"
     ]
    },
    {
     "name": "stdout",
     "output_type": "stream",
     "text": [
      "Area of Triangle is 100.0\n"
     ]
    }
   ],
   "source": [
    "Base = float(input(\"Enter Base for Area = \"))\n",
    "Height = float(input(\"Enter height for Area = \"))\n",
    "Area = (Base*Height)/2\n",
    "print(\"Area of Triangle is\",Area)"
   ]
  },
  {
   "cell_type": "markdown",
   "metadata": {},
   "source": [
    "## 9. Calculate Interest\n",
    "### Write a Python program to compute the future value of a specified principal amount, rate of interest, and a number of years\n",
    "#### Program Console Sample 1:\n",
    "##### Please enter principal amount: 10000\n",
    "###### Please Enter Rate of interest in %: 0.1\n",
    "###### Enter number of years for investment: 5\n",
    "###### After 5 years your principal amount 10000 over an interest rate of 0.1 % will be 16105.1"
   ]
  },
  {
   "cell_type": "code",
   "execution_count": 15,
   "metadata": {},
   "outputs": [
    {
     "name": "stdin",
     "output_type": "stream",
     "text": [
      "Please enter principal amount: 10000\n",
      "Please Enter Rate of interest in %: 0.1\n",
      "Enter number of years for investment: 5\n"
     ]
    },
    {
     "name": "stdout",
     "output_type": "stream",
     "text": [
      "After 5 years your principal amount 10000 over an interest rate of 0.1 % will be 16105.100000000006\n"
     ]
    }
   ],
   "source": [
    "Amount=int(input(\"Please enter principal amount:\"))\n",
    "Interest_Rate=float(input(\"Please Enter Rate of interest in %:\"))\n",
    "Invest=int(input(\"Enter number of years for investment:\"))\n",
    "Future_Amount=Amount*((1+Interest_Rate)**Invest)\n",
    "\n",
    "print(\"After\",Invest, \"years your principal amount\", Amount, \"over an interest rate of\", Interest_Rate, \"% will be\", Future_Amount)"
   ]
  },
  {
   "cell_type": "markdown",
   "metadata": {},
   "source": [
    "## 10. Euclidean distance\n",
    "### write a Python program to compute the distance between the points (x1, y1) and (x2, y2).\n",
    "#### Program Console Sample 1:\n",
    "###### Enter Co-ordinate for x1: 2\n",
    "###### Enter Co-ordinate for x2: 4\n",
    "###### Enter Co-ordinate for y1: 4\n",
    "###### Enter Co-ordinate for y2: 4\n",
    "###### Distance between points (2, 4) and (4, 4) is 2"
   ]
  },
  {
   "cell_type": "markdown",
   "metadata": {},
   "source": [
    "###### Reference:\n",
    "https://en.wikipedia.org/wiki/Euclidean_distance"
   ]
  },
  {
   "cell_type": "code",
   "execution_count": 17,
   "metadata": {},
   "outputs": [
    {
     "name": "stdin",
     "output_type": "stream",
     "text": [
      "Enter Co-ordinate for x1: 2\n",
      "Enter Co-ordinate for x2: 4\n",
      "Enter Co-ordinate for y1: 4\n",
      "Enter Co-ordinate for y2: 4\n"
     ]
    },
    {
     "name": "stdout",
     "output_type": "stream",
     "text": [
      "Distance between points ( 2 , 4 ) and ( 4 , 4 ) is  2\n"
     ]
    }
   ],
   "source": [
    "x1=int(input(\"Enter Co-ordinate for x1:\"))\n",
    "x2=int(input(\"Enter Co-ordinate for x2:\"))\n",
    "y1=int(input(\"Enter Co-ordinate for y1:\"))\n",
    "y2=int(input(\"Enter Co-ordinate for y2:\"))\n",
    "distance = int((((x1 - x2 )** 2) + ((y1 - y2) ** 2)) ** 0.5)\n",
    "\n",
    "print('Distance between points (',x1,',',x2,') and (',y1,',',y2,') is ',distance)"
   ]
  },
  {
   "cell_type": "markdown",
   "metadata": {},
   "source": [
    "## 11. Feet to Centimeter Converter\n",
    "### Write a Python program to convert height in feet to centimetres.\n",
    "##### Program Console Sample 1:\n",
    "###### Enter Height in Feet: 5\n",
    "###### There are 152.4 Cm in 5 ft\n",
    "###### Reference:\n",
    "https://www.rapidtables.com/convert/length/feet-to-cm.html"
   ]
  },
  {
   "cell_type": "code",
   "execution_count": 19,
   "metadata": {},
   "outputs": [
    {
     "name": "stdin",
     "output_type": "stream",
     "text": [
      "Enter Height in Feet:  5\n"
     ]
    },
    {
     "name": "stdout",
     "output_type": "stream",
     "text": [
      "There are 152.4 Cm in 5 ft\n"
     ]
    }
   ],
   "source": [
    "feet=float(input(\"Enter Height in Feet: \"))\n",
    "cm=feet*30.48\n",
    "print(\"There are\",cm, \"Cm in\",int(feet), \"ft\")"
   ]
  },
  {
   "cell_type": "markdown",
   "metadata": {},
   "source": [
    "## 12. BMI Calculator\n",
    "### Write a Python program to calculate body mass index\n",
    "##### Program Console Sample 1:\n",
    "###### Enter Height in Cm: 180\n",
    "###### Enter Weight in Kg: 75\n",
    "###### Your BMI is 23.15"
   ]
  },
  {
   "cell_type": "code",
   "execution_count": 20,
   "metadata": {},
   "outputs": [
    {
     "name": "stdin",
     "output_type": "stream",
     "text": [
      "Enter Height in Cm:  180\n",
      "Enter Weight in Kg:  75\n"
     ]
    },
    {
     "name": "stdout",
     "output_type": "stream",
     "text": [
      "BMI of 180 and 75 is 23.148148148148145\n"
     ]
    }
   ],
   "source": [
    "Height = int(input(\"Enter Height in Cm: \"))\n",
    "Weight = int(input(\"Enter Weight in Kg: \"))\n",
    "\n",
    "BMI =  (Weight / (Height ** 2)) * 10000\n",
    "\n",
    "print (\"BMI of\",Height,\"and\",Weight,\"is\",BMI)"
   ]
  },
  {
   "cell_type": "markdown",
   "metadata": {},
   "source": [
    "## 13. Sum of n Positive Integers\n",
    "### Write a python program to sum of the first n positive integers\n",
    "#### Program Console Sample 1:\n",
    "###### Enter value of n: 5\n",
    "###### Sum of n Positive integers till 5 is 15"
   ]
  },
  {
   "cell_type": "code",
   "execution_count": 21,
   "metadata": {},
   "outputs": [
    {
     "name": "stdin",
     "output_type": "stream",
     "text": [
      "Input a integar number:  5\n"
     ]
    },
    {
     "name": "stdout",
     "output_type": "stream",
     "text": [
      "Sum of n positive integers till 5 is 15\n"
     ]
    }
   ],
   "source": [
    "Number = int(input(\"Input a integar number: \"))\n",
    "Sum_Number = int((Number * (Number + 1)) / 2)\n",
    "print(\"Sum of n positive integers till\",Number, \"is\", Sum_Number)"
   ]
  },
  {
   "cell_type": "markdown",
   "metadata": {},
   "source": [
    "## 14. Digits Sum of a Number\n",
    "### Write a Python program to calculate the sum of the digits in an integer\n",
    "#### Program Console Sample 1:\n",
    "##### Enter a number: 15\n",
    "###### Sum of 1 + 5 is 6\n",
    "#### Program Console Sample 2:\n",
    "##### Enter a number: 1234\n",
    "###### Sum of 1 + 2 + 3 + 4 is 10"
   ]
  },
  {
   "cell_type": "code",
   "execution_count": 22,
   "metadata": {},
   "outputs": [
    {
     "name": "stdin",
     "output_type": "stream",
     "text": [
      "Enter Number =  15\n"
     ]
    },
    {
     "name": "stdout",
     "output_type": "stream",
     "text": [
      "Sum of your entered numbers : 1 + 5 is 6\n"
     ]
    }
   ],
   "source": [
    "Number = input(\"Enter Number = \")\n",
    "Result = 0\n",
    "print(\"Sum of your entered numbers : \",end='')\n",
    "for i in range (0,len(Number)):\n",
    "    if (i>0 and i<len(Number)-2) or (i == 0):\n",
    "        print(f\"{Number[i]} + \",end='')\n",
    "    elif (i>0 and i<len(Number)):\n",
    "        print(f\"{Number[i]} is \",end='')\n",
    "    Result+=int(Number[i])\n",
    "print(Result)"
   ]
  },
  {
   "cell_type": "code",
   "execution_count": 23,
   "metadata": {},
   "outputs": [
    {
     "name": "stdin",
     "output_type": "stream",
     "text": [
      "Enter Number =  1234\n"
     ]
    },
    {
     "name": "stdout",
     "output_type": "stream",
     "text": [
      "Sum of your entered numbers : 1 + 2 + 3 is 4 is 10\n"
     ]
    }
   ],
   "source": [
    "Number = input(\"Enter Number = \")\n",
    "Result = 0\n",
    "print(\"Sum of your entered numbers : \",end='')\n",
    "for i in range (0,len(Number)):\n",
    "    if (i>0 and i<len(Number)-2) or (i == 0):\n",
    "        print(f\"{Number[i]} + \",end='')\n",
    "    elif (i>0 and i<len(Number)):\n",
    "        print(f\"{Number[i]} is \",end='')\n",
    "    Result+=int(Number[i])\n",
    "print(Result)"
   ]
  }
 ],
 "metadata": {
  "kernelspec": {
   "display_name": "Python 3",
   "language": "python",
   "name": "python3"
  },
  "language_info": {
   "codemirror_mode": {
    "name": "ipython",
    "version": 3
   },
   "file_extension": ".py",
   "mimetype": "text/x-python",
   "name": "python",
   "nbconvert_exporter": "python",
   "pygments_lexer": "ipython3",
   "version": "3.7.3"
  }
 },
 "nbformat": 4,
 "nbformat_minor": 2
}
