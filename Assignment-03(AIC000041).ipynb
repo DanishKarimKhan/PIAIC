{
 "cells": [
  {
   "cell_type": "markdown",
   "metadata": {},
   "source": [
    "<h3>Q no 1:  Write a python program to find number of occurrences of given number in a list with out using built-in methods</h3>\n",
    "<h4>**1 generate a list of some random num which is repeated again and again</h4>\n",
    "<h4>**2 take user input any number</h4>\n",
    "<h4>**3 find the number of occurrences of that num in your list</h4>\n",
    "<h4>**4 print some message to user with that result</h4>"
   ]
  },
  {
   "cell_type": "code",
   "execution_count": 1,
   "metadata": {},
   "outputs": [
    {
     "name": "stdin",
     "output_type": "stream",
     "text": [
      "Enter Number in List,separated by space 1 5 6 110\n"
     ]
    },
    {
     "name": "stdout",
     "output_type": "stream",
     "text": [
      "Your Entered List :  [1, 5, 6, 110]\n"
     ]
    },
    {
     "name": "stdin",
     "output_type": "stream",
     "text": [
      "Enter Number to check its occurance:  110\n"
     ]
    },
    {
     "name": "stdout",
     "output_type": "stream",
     "text": [
      "Occurance of your entered input number ' 110 ' is :  1\n"
     ]
    }
   ],
   "source": [
    "Num_List = [int(x) for x in input(\"Enter Number in List,separated by space\").split()]\n",
    "print(\"Your Entered List : \",Num_List)\n",
    "y=int(input(\"Enter Number to check its occurance: \"))\n",
    "count = 0 \n",
    "for i in Num_List:\n",
    "    if(y==i):\n",
    "        count+=1\n",
    "print(\"Occurance of your entered input number '\",y,\"' is : \",count )"
   ]
  },
  {
   "cell_type": "code",
   "execution_count": null,
   "metadata": {},
   "outputs": [],
   "source": []
  },
  {
   "cell_type": "markdown",
   "metadata": {},
   "source": [
    "<h3>Q no 2:   [\"www.zframez.com\", \"www.wikipedia.org\", \"www.asp.net\", \"www.abcd.in\"]\n",
    "<br/><br/><br/><br/><br/>\n",
    "Write a python program to print website suffixes (com , org , net ,in) from this list\n",
    "\n",
    "Hint : Use split() method to perform this task\n",
    "</h3>\n"
   ]
  },
  {
   "cell_type": "code",
   "execution_count": 2,
   "metadata": {},
   "outputs": [
    {
     "name": "stdout",
     "output_type": "stream",
     "text": [
      "Websites are : \n",
      " ['www.zframez.com', 'www.wikipedia.org', 'www.asp.net', 'www.abcd.in']\n",
      "Website Suffixes is : com\n",
      "Website Suffixes is : org\n",
      "Website Suffixes is : net\n",
      "Website Suffixes is : in\n"
     ]
    }
   ],
   "source": [
    "Websites= [\"www.zframez.com\", \"www.wikipedia.org\", \"www.asp.net\", \"www.abcd.in\"] \n",
    "print(\"Websites are : \\n\",Websites)\n",
    "for i in Websites:\n",
    "    i=i.split(\".\")[-1]\n",
    "    print(\"Website Suffixes is :\",i)"
   ]
  },
  {
   "cell_type": "code",
   "execution_count": null,
   "metadata": {},
   "outputs": [],
   "source": []
  },
  {
   "cell_type": "markdown",
   "metadata": {},
   "source": [
    "<h3> Q no 3 : Write a program which can compute the factorial of a given numbers.</h3>\n",
    "<br/>\n",
    "<br/>\n",
    "<h4>**1 first take user input any number</h4>\n",
    "<h4>**2 calculate factorial of that input and then print the result to user</h4>"
   ]
  },
  {
   "cell_type": "code",
   "execution_count": 3,
   "metadata": {},
   "outputs": [
    {
     "name": "stdin",
     "output_type": "stream",
     "text": [
      "Please Enter Any Number to Calculate Factorial :  5\n"
     ]
    },
    {
     "name": "stdout",
     "output_type": "stream",
     "text": [
      "Your input is :  5\n",
      "Factorial of your input number is :  120\n"
     ]
    }
   ],
   "source": [
    "Num = int(input(\"Please Enter Any Number to Calculate Factorial : \"))\n",
    "print(\"Your input is : \",Num)\n",
    "Factorial = 1 \n",
    "for i in range(Num, 0, -1): \n",
    "    Factorial = i*Factorial\n",
    "print(\"Factorial of your input number is : \",Factorial)"
   ]
  },
  {
   "cell_type": "code",
   "execution_count": null,
   "metadata": {},
   "outputs": [],
   "source": []
  },
  {
   "cell_type": "code",
   "execution_count": null,
   "metadata": {},
   "outputs": [],
   "source": []
  },
  {
   "cell_type": "code",
   "execution_count": null,
   "metadata": {},
   "outputs": [],
   "source": []
  },
  {
   "cell_type": "markdown",
   "metadata": {},
   "source": [
    "<h3>Q 4 (a) :  If you could invite anyone, living or deceased, to dinner, who\n",
    "would you invite? Make a list that includes at least three people you’d like to\n",
    "invite to dinner. Then use your list to print a message to each person, inviting\n",
    "them to dinner.</h3>"
   ]
  },
  {
   "cell_type": "code",
   "execution_count": 5,
   "metadata": {},
   "outputs": [
    {
     "name": "stdin",
     "output_type": "stream",
     "text": [
      "Enter Names of Invited Friends  danish ali ahmed\n"
     ]
    },
    {
     "name": "stdout",
     "output_type": "stream",
     "text": [
      "List of your invited friends: \n",
      " ['danish', 'ali', 'ahmed']\n",
      "Dear danish ,I want to invite you at eid party \n",
      "Dear ali ,I want to invite you at eid party \n",
      "Dear ahmed ,I want to invite you at eid party \n"
     ]
    }
   ],
   "source": [
    "Invited_Friends = input(\"Enter Names of Invited Friends \")\n",
    "list  = Invited_Friends.split()\n",
    "print(\"List of your invited friends: \\n\",list)\n",
    "for i in range(0,len(list)):\n",
    "    print(\"Dear\",list[i],\",I want to invite you at eid party \")\n"
   ]
  },
  {
   "cell_type": "code",
   "execution_count": null,
   "metadata": {},
   "outputs": [],
   "source": []
  },
  {
   "cell_type": "code",
   "execution_count": null,
   "metadata": {},
   "outputs": [],
   "source": []
  },
  {
   "cell_type": "markdown",
   "metadata": {},
   "source": [
    "<h3>Q 4 (b) : You just heard that one of your guests can’t make the\n",
    "dinner, so you need to send out a new set of invitations. You’ll have to think of\n",
    "someone else to invite.<br/></br><br/>\n",
    "•\t Start with your program from Q 4 (a). Add a print statement at the\n",
    "end of your program stating the name of the guest who can’t make it.<br/></br><br/>\n",
    "•\t Modify your list, replacing the name of the guest who can’t make it with\n",
    "the name of the new person you are inviting.<br/></br><br/>\n",
    "•\t Print a second set of invitation messages, one for each person who is still\n",
    "in your list.<br/></br><br/></h3>"
   ]
  },
  {
   "cell_type": "code",
   "execution_count": null,
   "metadata": {},
   "outputs": [],
   "source": [
    "list = ['danish','zafar','uzair']\n",
    "print(\"List of the guest\",list)\n",
    "print(\"Sorry,\",list[1],\"Can't make the dinner\")\n",
    "list[list.index(\"uzair\")] = \"ali\"\n",
    "print(\"Now,New list of the guest\",list)\n",
    "for i in range(0,len(list)):\n",
    "    print(\"Dear\",list[i],\",I want to invite you at eid party \")"
   ]
  },
  {
   "cell_type": "code",
   "execution_count": null,
   "metadata": {},
   "outputs": [],
   "source": []
  },
  {
   "cell_type": "code",
   "execution_count": null,
   "metadata": {},
   "outputs": [],
   "source": []
  },
  {
   "cell_type": "markdown",
   "metadata": {},
   "source": [
    "<h3>Q 4 (c) : You just found a bigger dinner table, so now more space is\n",
    "available. Think of three more guests to invite to dinner.<br/></br><br/>\n",
    "•\t Start with your program from Q 4 (a) and (b) Add a print\n",
    "statement to the end of your program informing people that you found a\n",
    "bigger dinner table.<br/></br><br/>\n",
    "•\t Use insert() to add one new guest to the beginning of your list.<br/></br><br/>\n",
    "•\t Use insert() to add one new guest to the middle of your list.<br/></br><br/>\n",
    "•\t Use append() to add one new guest to the end of your list.<br/></br><br/>\n",
    "•\t Print a new set of invitation messages, one for each person in your list.<br/></br><br/></h3>"
   ]
  },
  {
   "cell_type": "code",
   "execution_count": null,
   "metadata": {},
   "outputs": [],
   "source": [
    "list = ['danish','zafar','uzair']\n",
    "print(list[0],list[1],list[2],\": Hey! I have found a bigger dinner table for more peoples\")\n",
    "\n",
    "list.insert(0,'bilal')\n",
    "list.insert(2,'ammar')\n",
    "list.append('shahmir')\n",
    "\n",
    "for i in list:\n",
    "    print(\"Dear\",i,\",I want to invite you at eid party \")"
   ]
  },
  {
   "cell_type": "code",
   "execution_count": null,
   "metadata": {},
   "outputs": [],
   "source": []
  },
  {
   "cell_type": "code",
   "execution_count": null,
   "metadata": {},
   "outputs": [],
   "source": []
  },
  {
   "cell_type": "markdown",
   "metadata": {},
   "source": [
    "<h5> Q 5 : Here you have some data in variable below, your task is to make a list of specific word Surah then print the list and length of list</h5>\n"
   ]
  },
  {
   "cell_type": "code",
   "execution_count": null,
   "metadata": {},
   "outputs": [],
   "source": [
    "Searching_string = str(\"There are 114 Surah in the Quran, each divided into verses (āyāt). The chapters or Surah are of unequal length\")\n",
    "print(Searching_string)\n",
    "List1=Searching_string.split(' ')\n",
    "List2=[]\n",
    "for i in List1:\n",
    "    if i==\"Surah\":\n",
    "        List2.append(i)\n",
    "print(List2)\n",
    "print(\"The length of required word in new searched list is \",len(List2))"
   ]
  },
  {
   "cell_type": "code",
   "execution_count": null,
   "metadata": {},
   "outputs": [],
   "source": []
  },
  {
   "cell_type": "markdown",
   "metadata": {},
   "source": [
    " <h3>Q no 6 : You have some name of cities in list named cities, Your task is to check whether Karachi is present in this list or not, if present print the index where the value Karachi is present</h3>"
   ]
  },
  {
   "cell_type": "code",
   "execution_count": null,
   "metadata": {},
   "outputs": [],
   "source": [
    "cities_names=['karachi','lahore','quetta']\n",
    "print(\"Names of the cities :\",cities)\n",
    "for x in cities_names:\n",
    "    if (x =='karachi'):\n",
    "        print(\"karachi is present in list\")\n",
    "print(\"Index Number of karachi in list is :\",cities_names.index('karachi'))"
   ]
  },
  {
   "cell_type": "code",
   "execution_count": null,
   "metadata": {},
   "outputs": [],
   "source": []
  },
  {
   "cell_type": "code",
   "execution_count": null,
   "metadata": {},
   "outputs": [],
   "source": []
  }
 ],
 "metadata": {
  "kernelspec": {
   "display_name": "Python 3",
   "language": "python",
   "name": "python3"
  },
  "language_info": {
   "codemirror_mode": {
    "name": "ipython",
    "version": 3
   },
   "file_extension": ".py",
   "mimetype": "text/x-python",
   "name": "python",
   "nbconvert_exporter": "python",
   "pygments_lexer": "ipython3",
   "version": "3.7.3"
  }
 },
 "nbformat": 4,
 "nbformat_minor": 2
}
